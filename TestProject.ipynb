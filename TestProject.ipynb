{
 "cells": [
  {
   "cell_type": "markdown",
   "metadata": {},
   "source": [
    "## Brief Description of the Project and the Data Set \n",
    "     \n",
    "     \n",
    "<span style=\"color: red;\">The data set for this  project was downloaded from  National Health Service (NHS Digital)- England. The major intention of collecting this data is to provide a list of all medicines, dressings and appliances that are prescribed by all practices in England, including GP practices, each month. This data set has three major elements (three major data files).</span>\n",
    "\n",
    "**File 1: Practice codes, names and addresses file**\n",
    "\n",
    "All registered practices, including GP practices, in England are included in the data.\n",
    "Each practice is uniquely identified  by their practice code and also there names and addresses are included.\n",
    "\n",
    "**File 2: Practice prescribing data file**\n",
    "\n",
    "This is the main data file which contains practice level prescribing data. Practice prescribing data is a list of all medicines, dressings and appliances that are prescribed and dispensed each month. This is relatively large file which contains  over 10 million records every month.\n",
    "\n",
    "**File 3:Chemical names and British National Formulary (BNF) code file**\n",
    "\n",
    "This file can be used to translate the presentation level 15 character BNF code of the main data file (File 2) in to chemical level by using the first 9 characters.\n",
    "\n",
    "<table>\n",
    "<tr><th><center>File 1</center></th><th><center> File 2 </center></th><th><center>File 3</center></th></tr>\n",
    "    \n",
    "<tr><td>\n",
    "    \n",
    "| Parameter     | Description                         |\n",
    "|---------------|-------------------------------------|\n",
    "| PERIOD        | YYYYMM                              |\n",
    "| Practice Code | ANNNNN practice code - 6 characters |\n",
    "| Practice Name | Name of surgery                     |\n",
    "| Address 1     | ANY VILLA SURGERY                   |\n",
    "| Address 2     | 1 ANY ROAD                          |\n",
    "| Address 3     | ANYTOWN                             |\n",
    "| Address 4     | ANYSHIRE                            |\n",
    "| Postcode      | XX2 7XX                             |\n",
    "\n",
    "</td>\n",
    "<td>\n",
    "    \n",
    "| Parameter | Description                                           |\n",
    "|-----------|-------------------------------------------------------|\n",
    "| SHA1      | SHA or AT code - 3 characters                         |\n",
    "| PCT2      | PCT or CCG code - 3 characters                        |\n",
    "| PRACTICE  | ANNNNN Practice code - 6 characters                   |\n",
    "| BNF CODE  | British National Formulary (BNF) code - 15 characters |\n",
    "| BNF NAME  | BNF presentation name - 40 characters                 |\n",
    "| ITEMS     | Prescription items dispensed - whole numbers          |\n",
    "| NIC       | Net ingredient cost - pounds and pence                |\n",
    "| ACT COST  | Actual cost - pounds and pence                        |\n",
    "| QUANTITY  | Quantity - whole numbers                              |\n",
    "| PERIOD    | YYYYMM                                                |\n",
    "    \n",
    " </td>\n",
    "  <td>\n",
    "\n",
    "  | Parameter | Description                      |\n",
    "|-----------|----------------------------------|\n",
    "| CHEM SUB  | Chemical BNF code - 9 characters |\n",
    "| NAME      | Chemical Name - 60 characters    |  \n",
    "    \n",
    " </td></tr></table>\n",
    " \n",
    " <font size=\"5\">**The following links can be used to download and get more information about the data**</font> \n",
    " \n",
    "1. [<span style=\"color: blue;\">Practice level prescribing data: More Information about the data set can be found here </span>](https://digital.nhs.uk/data-and-information/areas-of-interest/prescribing/practice-level-prescribing-in-england-a-summary/practice-level-prescribing-data-more-information)\n",
    "\n",
    " \n",
    "2. [<span style=\"color: blue;\">Data Sourse - To download data files</span>](https://digital.nhs.uk/data-and-information/publications/statistical/practice-level-prescribing-data)\n",
    "\n",
    " \n",
    "3. [<span style=\"color: blue;\">Glossary of Terms - A detailed description of the terms used in this data set</span>](https://digital.nhs.uk/data-and-information/areas-of-interest/prescribing/practice-level-prescribing-in-england-a-summary/practice-level-prescribing-glossary-of-terms)\n"
   ]
  },
  {
   "cell_type": "code",
   "execution_count": 1,
   "metadata": {},
   "outputs": [
    {
     "data": {
      "text/html": [
       "\n",
       "<style>\n",
       ".output_png {\n",
       "    display: table-cell;\n",
       "    text-align: center;\n",
       "    vertical-align: middle;\n",
       "}\n",
       "</style>\n"
      ],
      "text/plain": [
       "<IPython.core.display.HTML object>"
      ]
     },
     "execution_count": 1,
     "metadata": {},
     "output_type": "execute_result"
    }
   ],
   "source": [
    "\" Importing modules  \"\n",
    "# Python ≥3.5 is required\n",
    "import sys\n",
    "assert sys.version_info >= (3, 5)\n",
    "#print(sys.path)\n",
    "\n",
    "#import tensorflow as tf\n",
    "#from tensorflow import keras\n",
    "#assert tf.__version__ >= \"2.0\"\n",
    "\n",
    "import pandas as pd\n",
    "import numpy as np\n",
    "import os\n",
    "\n",
    "%matplotlib inline\n",
    "import matplotlib.pyplot as plt\n",
    "import seaborn as sns\n",
    "\n",
    "# To plot pretty figures\n",
    "%matplotlib inline\n",
    "import matplotlib as mpl\n",
    "import matplotlib.pyplot as plt\n",
    "mpl.rc('axes', labelsize=14)\n",
    "mpl.rc('xtick', labelsize=12)\n",
    "mpl.rc('ytick', labelsize=12)\n",
    "\n",
    "# Where to save the figures\n",
    "PROJECT_ROOT_DIR = \".\"\n",
    "CHAPTER_ID = \"datainsight\"\n",
    "IMAGES_PATH = os.path.join(PROJECT_ROOT_DIR, \"images\", CHAPTER_ID)\n",
    "os.makedirs(IMAGES_PATH, exist_ok=True)\n",
    "\n",
    "\n",
    "\" Centering the images\"\n",
    "from IPython.core.display import HTML\n",
    "HTML(\"\"\"\n",
    "<style>\n",
    ".output_png {\n",
    "    display: table-cell;\n",
    "    text-align: center;\n",
    "    vertical-align: middle;\n",
    "}\n",
    "</style>\n",
    "\"\"\")"
   ]
  },
  {
   "cell_type": "code",
   "execution_count": 2,
   "metadata": {},
   "outputs": [],
   "source": [
    "class color:\n",
    "    \"Simple utility class for text fromatting. I can pass these class attributes to the print funtions\"\n",
    "    \n",
    "    purple,cyan,darkcyan = '\\033[95m','\\033[96m','\\033[36m'\n",
    "    blue,green,yellow,red  = '\\033[94m','\\033[92m','\\033[93m','\\033[91m'\n",
    "    bold,underline,end = '\\033[1m','\\033[4m','\\033[0m'\n",
    "      "
   ]
  },
  {
   "cell_type": "markdown",
   "metadata": {},
   "source": [
    "## Loading data and exploration"
   ]
  },
  {
   "cell_type": "code",
   "execution_count": 3,
   "metadata": {},
   "outputs": [
    {
     "name": "stdout",
     "output_type": "stream",
     "text": [
      "\u001b[1mLoading practice codes, names and addresses file (File 1)\n",
      "\u001b[94m\u001b[1m\u001b[4mPractice Codes, Names, and Addresses:\u001b[0m\n",
      "<class 'pandas.core.frame.DataFrame'>\n",
      "RangeIndex: 9324 entries, 0 to 9323\n",
      "Data columns (total 8 columns):\n",
      "PERIOD       9324 non-null int64\n",
      "CODE         9324 non-null object\n",
      "NAME         9324 non-null object\n",
      "ADDR_1       9323 non-null object\n",
      "ADDR_2       8656 non-null object\n",
      "ADDR_3       8989 non-null object\n",
      "ADDR_4       7455 non-null object\n",
      "POST CODE    9323 non-null object\n",
      "dtypes: int64(1), object(7)\n",
      "memory usage: 582.9+ KB\n"
     ]
    },
    {
     "data": {
      "text/html": [
       "<div>\n",
       "<style scoped>\n",
       "    .dataframe tbody tr th:only-of-type {\n",
       "        vertical-align: middle;\n",
       "    }\n",
       "\n",
       "    .dataframe tbody tr th {\n",
       "        vertical-align: top;\n",
       "    }\n",
       "\n",
       "    .dataframe thead th {\n",
       "        text-align: right;\n",
       "    }\n",
       "</style>\n",
       "<table border=\"1\" class=\"dataframe\">\n",
       "  <thead>\n",
       "    <tr style=\"text-align: right;\">\n",
       "      <th></th>\n",
       "      <th>PERIOD</th>\n",
       "      <th>CODE</th>\n",
       "      <th>NAME</th>\n",
       "      <th>ADDR_1</th>\n",
       "      <th>ADDR_2</th>\n",
       "      <th>ADDR_3</th>\n",
       "      <th>ADDR_4</th>\n",
       "      <th>POST CODE</th>\n",
       "    </tr>\n",
       "  </thead>\n",
       "  <tbody>\n",
       "    <tr>\n",
       "      <th>5696</th>\n",
       "      <td>201912</td>\n",
       "      <td>A81001</td>\n",
       "      <td>THE DENSHAM SURGERY</td>\n",
       "      <td>THE HEALTH CENTRE</td>\n",
       "      <td>LAWSON STREET</td>\n",
       "      <td>STOCKTON-ON-TEES</td>\n",
       "      <td>CLEVELAND</td>\n",
       "      <td>TS18 1HU</td>\n",
       "    </tr>\n",
       "    <tr>\n",
       "      <th>8573</th>\n",
       "      <td>201912</td>\n",
       "      <td>A81002</td>\n",
       "      <td>QUEENS PARK MEDICAL CENTRE</td>\n",
       "      <td>QUEENS PARK MEDICAL CTR</td>\n",
       "      <td>FARRER STREET</td>\n",
       "      <td>STOCKTON ON TEES</td>\n",
       "      <td>CLEVELAND</td>\n",
       "      <td>TS18 2AW</td>\n",
       "    </tr>\n",
       "  </tbody>\n",
       "</table>\n",
       "</div>"
      ],
      "text/plain": [
       "      PERIOD    CODE                        NAME                   ADDR_1  \\\n",
       "5696  201912  A81001         THE DENSHAM SURGERY        THE HEALTH CENTRE   \n",
       "8573  201912  A81002  QUEENS PARK MEDICAL CENTRE  QUEENS PARK MEDICAL CTR   \n",
       "\n",
       "             ADDR_2            ADDR_3     ADDR_4 POST CODE  \n",
       "5696  LAWSON STREET  STOCKTON-ON-TEES  CLEVELAND  TS18 1HU  \n",
       "8573  FARRER STREET  STOCKTON ON TEES  CLEVELAND  TS18 2AW  "
      ]
     },
     "execution_count": 3,
     "metadata": {},
     "output_type": "execute_result"
    }
   ],
   "source": [
    "\" Loading the data related to doctors', codes, names and addresses\"\n",
    "\n",
    "print(color.bold +\"Loading practice codes, names and addresses file (File 1)\")\n",
    "\n",
    "col_names_practice=[ 'PERIOD','CODE' ,'NAME', 'ADDR_1', 'ADDR_2', 'ADDR_3', 'ADDR_4', 'POST CODE']\n",
    "practice_info = pd.read_csv('./2019_December/2019_Dec_PracticeCodes_Names_Addresses.csv',index_col=False,\n",
    "                           header=None,names=col_names_practice)\n",
    "\n",
    "print(color.blue + color.bold + color.underline + 'Practice Codes, Names, and Addresses:' + color.end)\n",
    "practice_info.info()\n",
    "practice_info.sort_values('CODE').head(2)"
   ]
  },
  {
   "cell_type": "code",
   "execution_count": 4,
   "metadata": {},
   "outputs": [
    {
     "name": "stdout",
     "output_type": "stream",
     "text": [
      "\u001b[1mLoading prescribing data file (File 2)\n",
      "\u001b[94m\u001b[1m\u001b[4mPrescription Data:\u001b[0m\n",
      "<class 'pandas.core.frame.DataFrame'>\n",
      "RangeIndex: 9353682 entries, 0 to 9353681\n",
      "Data columns (total 10 columns):\n",
      "SHA         object\n",
      "PCT         object\n",
      "PRACTICE    object\n",
      "BNF CODE    object\n",
      "BNF NAME    object\n",
      "ITEMS       int64\n",
      "NIC         float64\n",
      "ACT COST    float64\n",
      "QUANTITY    float64\n",
      "PERIOD      int64\n",
      "dtypes: float64(3), int64(2), object(5)\n",
      "memory usage: 713.6+ MB\n"
     ]
    },
    {
     "data": {
      "text/html": [
       "<div>\n",
       "<style scoped>\n",
       "    .dataframe tbody tr th:only-of-type {\n",
       "        vertical-align: middle;\n",
       "    }\n",
       "\n",
       "    .dataframe tbody tr th {\n",
       "        vertical-align: top;\n",
       "    }\n",
       "\n",
       "    .dataframe thead th {\n",
       "        text-align: right;\n",
       "    }\n",
       "</style>\n",
       "<table border=\"1\" class=\"dataframe\">\n",
       "  <thead>\n",
       "    <tr style=\"text-align: right;\">\n",
       "      <th></th>\n",
       "      <th>SHA</th>\n",
       "      <th>PCT</th>\n",
       "      <th>PRACTICE</th>\n",
       "      <th>BNF CODE</th>\n",
       "      <th>BNF NAME</th>\n",
       "      <th>ITEMS</th>\n",
       "      <th>NIC</th>\n",
       "      <th>ACT COST</th>\n",
       "      <th>QUANTITY</th>\n",
       "      <th>PERIOD</th>\n",
       "    </tr>\n",
       "  </thead>\n",
       "  <tbody>\n",
       "    <tr>\n",
       "      <th>344758</th>\n",
       "      <td>Q45</td>\n",
       "      <td>00K</td>\n",
       "      <td>A81001</td>\n",
       "      <td>21240000120</td>\n",
       "      <td>Almus Sod Chlor 0.9% Nsl Dps</td>\n",
       "      <td>1</td>\n",
       "      <td>0.99</td>\n",
       "      <td>0.93</td>\n",
       "      <td>1.0</td>\n",
       "      <td>201912</td>\n",
       "    </tr>\n",
       "    <tr>\n",
       "      <th>344409</th>\n",
       "      <td>Q45</td>\n",
       "      <td>00K</td>\n",
       "      <td>A81001</td>\n",
       "      <td>0802010G0AAAEAE</td>\n",
       "      <td>Azathioprine_Tab 50mg</td>\n",
       "      <td>7</td>\n",
       "      <td>9.90</td>\n",
       "      <td>9.79</td>\n",
       "      <td>224.0</td>\n",
       "      <td>201912</td>\n",
       "    </tr>\n",
       "  </tbody>\n",
       "</table>\n",
       "</div>"
      ],
      "text/plain": [
       "        SHA  PCT PRACTICE         BNF CODE                      BNF NAME  \\\n",
       "344758  Q45  00K   A81001      21240000120  Almus Sod Chlor 0.9% Nsl Dps   \n",
       "344409  Q45  00K   A81001  0802010G0AAAEAE         Azathioprine_Tab 50mg   \n",
       "\n",
       "        ITEMS   NIC  ACT COST  QUANTITY  PERIOD  \n",
       "344758      1  0.99      0.93       1.0  201912  \n",
       "344409      7  9.90      9.79     224.0  201912  "
      ]
     },
     "execution_count": 4,
     "metadata": {},
     "output_type": "execute_result"
    }
   ],
   "source": [
    "\" Loading the prescriptions data (File 2). Large-file and it may take some time to load\"\n",
    "\n",
    "print(color.bold +\"Loading prescribing data file (File 2)\")\n",
    "\n",
    "presc_info = pd.read_csv('./2019_December/2019_Dec_Practice_Prescribing_Data.csv',index_col=False)\n",
    "\n",
    "print(color.blue + color.bold + color.underline + 'Prescription Data:' + color.end)\n",
    "presc_info.info()\n",
    "presc_info.sort_values('PRACTICE').head(2)"
   ]
  },
  {
   "cell_type": "code",
   "execution_count": 5,
   "metadata": {
    "scrolled": true
   },
   "outputs": [
    {
     "name": "stdout",
     "output_type": "stream",
     "text": [
      "\u001b[1mChemical names and British National Formulary (BNF) code file (File 3)\n",
      "\u001b[94m\u001b[1m\u001b[4mChemical Names and BNF Codes:\u001b[0m\n",
      "<class 'pandas.core.frame.DataFrame'>\n",
      "RangeIndex: 3510 entries, 0 to 3509\n",
      "Data columns (total 2 columns):\n",
      "CHEM SUB    3510 non-null object\n",
      "NAME        3510 non-null object\n",
      "dtypes: object(2)\n",
      "memory usage: 55.0+ KB\n"
     ]
    },
    {
     "data": {
      "text/html": [
       "<div>\n",
       "<style scoped>\n",
       "    .dataframe tbody tr th:only-of-type {\n",
       "        vertical-align: middle;\n",
       "    }\n",
       "\n",
       "    .dataframe tbody tr th {\n",
       "        vertical-align: top;\n",
       "    }\n",
       "\n",
       "    .dataframe thead th {\n",
       "        text-align: right;\n",
       "    }\n",
       "</style>\n",
       "<table border=\"1\" class=\"dataframe\">\n",
       "  <thead>\n",
       "    <tr style=\"text-align: right;\">\n",
       "      <th></th>\n",
       "      <th>CHEM SUB</th>\n",
       "      <th>NAME</th>\n",
       "    </tr>\n",
       "  </thead>\n",
       "  <tbody>\n",
       "    <tr>\n",
       "      <th>0</th>\n",
       "      <td>0104020D0</td>\n",
       "      <td>Codeine Phosphate Compound Mixtures</td>\n",
       "    </tr>\n",
       "    <tr>\n",
       "      <th>1</th>\n",
       "      <td>0104020H0</td>\n",
       "      <td>Co-Phenotrope (Diphenox HCl/Atrop Sulph)</td>\n",
       "    </tr>\n",
       "  </tbody>\n",
       "</table>\n",
       "</div>"
      ],
      "text/plain": [
       "    CHEM SUB                                      NAME\n",
       "0  0104020D0       Codeine Phosphate Compound Mixtures\n",
       "1  0104020H0  Co-Phenotrope (Diphenox HCl/Atrop Sulph)"
      ]
     },
     "execution_count": 5,
     "metadata": {},
     "output_type": "execute_result"
    }
   ],
   "source": [
    "\"Loading the Chemical  data (File 3)\"\n",
    "\n",
    "print(color.bold + \"Chemical names and British National Formulary (BNF) code file (File 3)\")\n",
    " \n",
    "chemi_info = pd.read_csv('./2019_December/2019_Dec_ChemicalNames_BNFCodes.csv',index_col=False)\n",
    "print(color.blue + color.bold + color.underline + 'Chemical Names and BNF Codes:' + color.end)\n",
    "chemi_info.info()\n",
    "chemi_info.head(2)"
   ]
  },
  {
   "cell_type": "markdown",
   "metadata": {},
   "source": [
    "## Descriptive statistics for 'N' most  prescribed items"
   ]
  },
  {
   "cell_type": "markdown",
   "metadata": {},
   "source": [
    "Finding the most prescribed items can be help for medical supply companies. When the medical supply companies know the prescription rates of the items they can keep the production at an optimal level to meet the demand and maximize the profit. They can pay more attention to the items with high demand."
   ]
  },
  {
   "cell_type": "code",
   "execution_count": 6,
   "metadata": {},
   "outputs": [
    {
     "name": "stdout",
     "output_type": "stream",
     "text": [
      "\u001b[94m\u001b[1mTop 10 most prescribed items:\n",
      "\u001b[0m ['0103050P0AAAAAA', '0212000B0AAABAB', '0206020A0AAAAAA', '0103050L0AAAAAA', '0209000A0AAABAB', '0407010H0AAAMAM', '0601022B0AAABAB', '0212000B0AAACAC', '0301011R0AAAPAP', '0206020A0AAABAB']\n",
      "\u001b[1m\n",
      " Data set is filtered by top 10 most prescribed items\n",
      "\u001b[0m\n"
     ]
    },
    {
     "data": {
      "text/html": [
       "<div>\n",
       "<style scoped>\n",
       "    .dataframe tbody tr th:only-of-type {\n",
       "        vertical-align: middle;\n",
       "    }\n",
       "\n",
       "    .dataframe tbody tr th {\n",
       "        vertical-align: top;\n",
       "    }\n",
       "\n",
       "    .dataframe thead th {\n",
       "        text-align: right;\n",
       "    }\n",
       "</style>\n",
       "<table border=\"1\" class=\"dataframe\">\n",
       "  <thead>\n",
       "    <tr style=\"text-align: right;\">\n",
       "      <th></th>\n",
       "      <th>SHA</th>\n",
       "      <th>PCT</th>\n",
       "      <th>PRACTICE</th>\n",
       "      <th>BNF CODE</th>\n",
       "      <th>BNF NAME</th>\n",
       "      <th>ITEMS</th>\n",
       "      <th>NIC</th>\n",
       "      <th>ACT COST</th>\n",
       "      <th>QUANTITY</th>\n",
       "      <th>PERIOD</th>\n",
       "    </tr>\n",
       "  </thead>\n",
       "  <tbody>\n",
       "    <tr>\n",
       "      <th>33</th>\n",
       "      <td>Q44</td>\n",
       "      <td>01C</td>\n",
       "      <td>N81002</td>\n",
       "      <td>0103050L0AAAAAA</td>\n",
       "      <td>Lansoprazole_Cap 30mg (E/C Gran)</td>\n",
       "      <td>190</td>\n",
       "      <td>312.69</td>\n",
       "      <td>294.51</td>\n",
       "      <td>7175.0</td>\n",
       "      <td>201912</td>\n",
       "    </tr>\n",
       "    <tr>\n",
       "      <th>37</th>\n",
       "      <td>Q44</td>\n",
       "      <td>01C</td>\n",
       "      <td>N81002</td>\n",
       "      <td>0103050P0AAAAAA</td>\n",
       "      <td>Omeprazole_Cap E/C 20mg</td>\n",
       "      <td>524</td>\n",
       "      <td>841.84</td>\n",
       "      <td>791.20</td>\n",
       "      <td>23338.0</td>\n",
       "      <td>201912</td>\n",
       "    </tr>\n",
       "    <tr>\n",
       "      <th>228</th>\n",
       "      <td>Q44</td>\n",
       "      <td>01C</td>\n",
       "      <td>N81002</td>\n",
       "      <td>0206020A0AAAAAA</td>\n",
       "      <td>Amlodipine_Tab 5mg</td>\n",
       "      <td>349</td>\n",
       "      <td>458.14</td>\n",
       "      <td>430.87</td>\n",
       "      <td>15092.0</td>\n",
       "      <td>201912</td>\n",
       "    </tr>\n",
       "    <tr>\n",
       "      <th>229</th>\n",
       "      <td>Q44</td>\n",
       "      <td>01C</td>\n",
       "      <td>N81002</td>\n",
       "      <td>0206020A0AAABAB</td>\n",
       "      <td>Amlodipine_Tab 10mg</td>\n",
       "      <td>162</td>\n",
       "      <td>207.52</td>\n",
       "      <td>195.80</td>\n",
       "      <td>6678.0</td>\n",
       "      <td>201912</td>\n",
       "    </tr>\n",
       "    <tr>\n",
       "      <th>285</th>\n",
       "      <td>Q44</td>\n",
       "      <td>01C</td>\n",
       "      <td>N81002</td>\n",
       "      <td>0209000A0AAABAB</td>\n",
       "      <td>Aspirin Disper_Tab 75mg</td>\n",
       "      <td>278</td>\n",
       "      <td>335.44</td>\n",
       "      <td>316.04</td>\n",
       "      <td>10920.0</td>\n",
       "      <td>201912</td>\n",
       "    </tr>\n",
       "  </tbody>\n",
       "</table>\n",
       "</div>"
      ],
      "text/plain": [
       "     SHA  PCT PRACTICE         BNF CODE                          BNF NAME  \\\n",
       "33   Q44  01C   N81002  0103050L0AAAAAA  Lansoprazole_Cap 30mg (E/C Gran)   \n",
       "37   Q44  01C   N81002  0103050P0AAAAAA           Omeprazole_Cap E/C 20mg   \n",
       "228  Q44  01C   N81002  0206020A0AAAAAA                Amlodipine_Tab 5mg   \n",
       "229  Q44  01C   N81002  0206020A0AAABAB               Amlodipine_Tab 10mg   \n",
       "285  Q44  01C   N81002  0209000A0AAABAB           Aspirin Disper_Tab 75mg   \n",
       "\n",
       "     ITEMS     NIC  ACT COST  QUANTITY  PERIOD  \n",
       "33     190  312.69    294.51    7175.0  201912  \n",
       "37     524  841.84    791.20   23338.0  201912  \n",
       "228    349  458.14    430.87   15092.0  201912  \n",
       "229    162  207.52    195.80    6678.0  201912  \n",
       "285    278  335.44    316.04   10920.0  201912  "
      ]
     },
     "execution_count": 6,
     "metadata": {},
     "output_type": "execute_result"
    }
   ],
   "source": [
    "\" Top N most prescribed items.\"\n",
    "\" Group by BNF Code, aggregate by items summation and sort the elements decending order \"\n",
    "\n",
    "\n",
    "N = 10 # 1<N<len(unique(BNF))\n",
    "agg_bnfcode    = presc_info.groupby('BNF CODE').agg({'ITEMS':'sum'}).sort_values('ITEMS',ascending=False)\n",
    "topN_bnfcode  = list(agg_bnfcode.index[0:N])\n",
    "print(color.blue + color.bold + \"Top {} most prescribed items:\\n\".format(N)+color.end,topN_bnfcode) \n",
    "\n",
    "topN_data = presc_info[presc_info['BNF CODE'].isin(topN_bnfcode)]\n",
    "print(color.bold + \"\\n Data set is filtered by top {} most prescribed items\\n\".format(N)+color.end)\n",
    "topN_data.head()"
   ]
  },
  {
   "cell_type": "markdown",
   "metadata": {},
   "source": [
    "Generating box-plots to visualize the precription pattern (Number of Items) distributions of the 'N' mostly prescribed items. This plot will give information related to min, Q1, Q2, Q3, 1.5IQR, and outliers of the distributions. I generated these plots to get an idea of descriptive statistics of the number of items prescribed.\n"
   ]
  },
  {
   "cell_type": "code",
   "execution_count": 7,
   "metadata": {},
   "outputs": [
    {
     "data": {
      "image/png": "[encoded data removed]",
      "text/plain": [
       "<Figure size 1080x576 with 1 Axes>"
      ]
     },
     "metadata": {
      "needs_background": "light"
     },
     "output_type": "display_data"
    }
   ],
   "source": [
    "\" Creating a box plot  to visualize the prescription pattern distribution \"\n",
    "fig, ax = plt.subplots(figsize=(15, 8))  \n",
    "plt.minorticks_on()\n",
    "plt.xticks(rotation=45)\n",
    "plt.grid(which='major', linestyle='-', linewidth='0.5', color='red',axis='y')\n",
    "plt.grid(which='minor', linestyle=':', linewidth='0.5', color='black',axis='y')\n",
    "\n",
    "plt.title(\"Descriptive Statistics For Top {} Most Commonly Prescribed Items\\n\".format(N))\n",
    "sns.boxplot(x='BNF CODE', y='ITEMS',  data=topN_data, ax=ax)\n",
    "plt.show() "
   ]
  },
  {
   "cell_type": "markdown",
   "metadata": {},
   "source": [
    "An interesting fact about the above plot is that you can see each medicine (BNF Code) has one or two extremely deviated points. I decided to check whether there is a relationship between these points and the doctor who issued this prescription."
   ]
  },
  {
   "cell_type": "code",
   "execution_count": 8,
   "metadata": {},
   "outputs": [
    {
     "data": {
      "text/html": [
       "<div>\n",
       "<style scoped>\n",
       "    .dataframe tbody tr th:only-of-type {\n",
       "        vertical-align: middle;\n",
       "    }\n",
       "\n",
       "    .dataframe tbody tr th {\n",
       "        vertical-align: top;\n",
       "    }\n",
       "\n",
       "    .dataframe thead th {\n",
       "        text-align: right;\n",
       "    }\n",
       "</style>\n",
       "<table border=\"1\" class=\"dataframe\">\n",
       "  <thead>\n",
       "    <tr style=\"text-align: right;\">\n",
       "      <th></th>\n",
       "      <th></th>\n",
       "      <th>ITEMS</th>\n",
       "    </tr>\n",
       "    <tr>\n",
       "      <th>BNF CODE</th>\n",
       "      <th>PRACTICE</th>\n",
       "      <th></th>\n",
       "    </tr>\n",
       "  </thead>\n",
       "  <tbody>\n",
       "    <tr>\n",
       "      <th>0103050L0AAAAAA</th>\n",
       "      <th>F85002</th>\n",
       "      <td>2399</td>\n",
       "    </tr>\n",
       "    <tr>\n",
       "      <th>0103050P0AAAAAA</th>\n",
       "      <th>Y01008</th>\n",
       "      <td>4549</td>\n",
       "    </tr>\n",
       "    <tr>\n",
       "      <th>0206020A0AAAAAA</th>\n",
       "      <th>D81022</th>\n",
       "      <td>2941</td>\n",
       "    </tr>\n",
       "    <tr>\n",
       "      <th>0206020A0AAABAB</th>\n",
       "      <th>F85002</th>\n",
       "      <td>2161</td>\n",
       "    </tr>\n",
       "    <tr>\n",
       "      <th>0209000A0AAABAB</th>\n",
       "      <th>D81022</th>\n",
       "      <td>2535</td>\n",
       "    </tr>\n",
       "    <tr>\n",
       "      <th>0212000B0AAABAB</th>\n",
       "      <th>D81022</th>\n",
       "      <td>2999</td>\n",
       "    </tr>\n",
       "    <tr>\n",
       "      <th>0212000B0AAACAC</th>\n",
       "      <th>F85002</th>\n",
       "      <td>2051</td>\n",
       "    </tr>\n",
       "    <tr>\n",
       "      <th>0301011R0AAAPAP</th>\n",
       "      <th>B81048</th>\n",
       "      <td>1936</td>\n",
       "    </tr>\n",
       "    <tr>\n",
       "      <th>0407010H0AAAMAM</th>\n",
       "      <th>Y01008</th>\n",
       "      <td>2048</td>\n",
       "    </tr>\n",
       "    <tr>\n",
       "      <th rowspan=\"2\" valign=\"top\">0601022B0AAABAB</th>\n",
       "      <th>D81022</th>\n",
       "      <td>2282</td>\n",
       "    </tr>\n",
       "    <tr>\n",
       "      <th>F85002</th>\n",
       "      <td>2282</td>\n",
       "    </tr>\n",
       "  </tbody>\n",
       "</table>\n",
       "</div>"
      ],
      "text/plain": [
       "                          ITEMS\n",
       "BNF CODE        PRACTICE       \n",
       "0103050L0AAAAAA F85002     2399\n",
       "0103050P0AAAAAA Y01008     4549\n",
       "0206020A0AAAAAA D81022     2941\n",
       "0206020A0AAABAB F85002     2161\n",
       "0209000A0AAABAB D81022     2535\n",
       "0212000B0AAABAB D81022     2999\n",
       "0212000B0AAACAC F85002     2051\n",
       "0301011R0AAAPAP B81048     1936\n",
       "0407010H0AAAMAM Y01008     2048\n",
       "0601022B0AAABAB D81022     2282\n",
       "                F85002     2282"
      ]
     },
     "execution_count": 8,
     "metadata": {},
     "output_type": "execute_result"
    }
   ],
   "source": [
    "\"Find any existing relationship between max items prescribed and the practitioner\"\n",
    "\n",
    "\"Group using mulitple colums and aggregate using the max number of ITEMS\"\n",
    "\n",
    "tmp = topN_data.groupby(['BNF CODE','PRACTICE']).agg({'ITEMS':'max'})\n",
    "tmp[tmp['ITEMS'] == tmp.groupby('BNF CODE')['ITEMS'].transform(max)]"
   ]
  },
  {
   "cell_type": "markdown",
   "metadata": {},
   "source": [
    "## Number of practices (doctors) and prescribed items by  postal code"
   ]
  },
  {
   "cell_type": "markdown",
   "metadata": {},
   "source": [
    "The postal code information is in File 1, and I will have to merge it into  File 2 to  get prescription information and postal code information together. It is important to know the distribution of doctors by the postal code.\n"
   ]
  },
  {
   "cell_type": "code",
   "execution_count": 9,
   "metadata": {},
   "outputs": [
    {
     "data": {
      "text/plain": [
       "Text(0.5, 0, 'Number of Practices')"
      ]
     },
     "execution_count": 9,
     "metadata": {},
     "output_type": "execute_result"
    },
    {
     "data": {
      "image/png": "[encoded data removed]",
      "text/plain": [
       "<Figure size 1440x576 with 3 Axes>"
      ]
     },
     "metadata": {
      "needs_background": "light"
     },
     "output_type": "display_data"
    }
   ],
   "source": [
    "\"Calculating the number of practices by postal code\"\n",
    "reduced_practice = practice_info.drop(['PERIOD','ADDR_1','ADDR_2','ADDR_3','ADDR_4'], axis = 1)\n",
    "reduced_practice.rename(index=str, columns={\"CODE\": \"PRACTICE\"},inplace=True)\n",
    "\n",
    "#print(len(reduced_practice['PRACTICE'].unique()))\n",
    "#postal_practice = reduced_practice.groupby('POST CODE').agg({'PRACTICE':'count'})\\\n",
    "                  #.apply(lambda x: sorted(x)[0])\n",
    "    \n",
    "postal_practice = reduced_practice.groupby('POST CODE').agg({'PRACTICE':'count'})    \n",
    "postal_practice.sort_values(\"PRACTICE\", axis = 0, ascending = False, \n",
    "                 inplace = True, na_position ='last') \n",
    "\n",
    "\n",
    "\"Plotting the distribution\"\n",
    "N = 30\n",
    "plt.subplots(figsize=(20, 8))\n",
    "plt.subplot(131)\n",
    "tmp = postal_practice.reset_index().iloc[0:N,:] # Max N values of the frame\n",
    "sns.barplot(x=\"PRACTICE\",y=\"POST CODE\", data=tmp)\n",
    "plt.grid()\n",
    "plt.xlabel(\"Number of Practices\",fontsize=15)\n",
    "\n",
    "plt.subplot(132)\n",
    "postal_practice['PRACTICE'].hist(bins=10,color='crimson',grid=True,xlabelsize=12,ylabelsize=12)\n",
    "plt.xlabel(\"Number of Practices\",fontsize=15)\n",
    "plt.ylabel(\"Frequency\",fontsize=12)\n",
    "\n",
    "plt.subplot(133)\n",
    "sns.boxplot(x=postal_practice['PRACTICE'],linewidth=2.5)\n",
    "plt.grid()\n",
    "plt.xlabel(\"Number of Practices\", fontsize=15)"
   ]
  },
  {
   "cell_type": "markdown",
   "metadata": {},
   "source": [
    "The distribution looks like a delta function where most of the postal codes have only one practice. It will be useful to tag places on a map where there  are most number of doctors."
   ]
  },
  {
   "cell_type": "code",
   "execution_count": 10,
   "metadata": {},
   "outputs": [],
   "source": [
    "import folium\n",
    "#import requests\n",
    "import geocoder\n",
    "from folium import Map, Marker, GeoJson, LayerControl\n"
   ]
  },
  {
   "cell_type": "code",
   "execution_count": 11,
   "metadata": {},
   "outputs": [
    {
     "data": {
      "text/html": [
       "<div style=\"width:100%;\"><div style=\"position:relative;width:100%;height:0;padding-bottom:60%;\"><span style=\"color:#565656\">Make this Notebook Trusted to load map: File -> Trust Notebook</span><iframe src=\"about:blank\" style=\"position:absolute;width:100%;height:100%;left:0;top:0;border:none !important;\" data-html=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 onload=\"this.contentDocument.open();this.contentDocument.write(atob(this.getAttribute('data-html')));this.contentDocument.close();\" allowfullscreen webkitallowfullscreen mozallowfullscreen></iframe></div></div>"
      ],
      "text/plain": [
       "<folium.folium.Map at 0x1e6caf5fc08>"
      ]
     },
     "execution_count": 11,
     "metadata": {},
     "output_type": "execute_result"
    }
   ],
   "source": [
    "loc = tmp['POST CODE'].apply(geocoder.osm)\n",
    "doctors_map = Map(location=[loc[0].lat,loc[0].lng],zoom_start=10)\n",
    "\n",
    "for idx in range(10):\n",
    "    latlng = [loc[idx].lat,loc[idx].lng]\n",
    "    locadd = loc[idx].address\n",
    "    doctors_map.add_child(Marker(location=latlng, \n",
    "                                 popup=locadd, icon = folium.Icon(icon='glyphicon-plus', \n",
    "                                                                  prefix='glyphicon',\n",
    "                                                                  color = 'red')))\n",
    "doctors_map    "
   ]
  },
  {
   "cell_type": "code",
   "execution_count": 12,
   "metadata": {},
   "outputs": [
    {
     "data": {
      "text/html": [
       "<div>\n",
       "<style scoped>\n",
       "    .dataframe tbody tr th:only-of-type {\n",
       "        vertical-align: middle;\n",
       "    }\n",
       "\n",
       "    .dataframe tbody tr th {\n",
       "        vertical-align: top;\n",
       "    }\n",
       "\n",
       "    .dataframe thead th {\n",
       "        text-align: right;\n",
       "    }\n",
       "</style>\n",
       "<table border=\"1\" class=\"dataframe\">\n",
       "  <thead>\n",
       "    <tr style=\"text-align: right;\">\n",
       "      <th></th>\n",
       "      <th>PRACTICE</th>\n",
       "      <th>BNF CODE</th>\n",
       "      <th>ITEMS</th>\n",
       "      <th>NAME</th>\n",
       "      <th>POST CODE</th>\n",
       "    </tr>\n",
       "  </thead>\n",
       "  <tbody>\n",
       "    <tr>\n",
       "      <th>0</th>\n",
       "      <td>N81002</td>\n",
       "      <td>0101010G0BCABAB</td>\n",
       "      <td>1</td>\n",
       "      <td>KENMORE MEDICAL CENTRE</td>\n",
       "      <td>SK9 1PA</td>\n",
       "    </tr>\n",
       "    <tr>\n",
       "      <th>1</th>\n",
       "      <td>N81002</td>\n",
       "      <td>0101021B0AAALAL</td>\n",
       "      <td>5</td>\n",
       "      <td>KENMORE MEDICAL CENTRE</td>\n",
       "      <td>SK9 1PA</td>\n",
       "    </tr>\n",
       "    <tr>\n",
       "      <th>2</th>\n",
       "      <td>N81002</td>\n",
       "      <td>0101021B0AAAPAP</td>\n",
       "      <td>1</td>\n",
       "      <td>KENMORE MEDICAL CENTRE</td>\n",
       "      <td>SK9 1PA</td>\n",
       "    </tr>\n",
       "    <tr>\n",
       "      <th>3</th>\n",
       "      <td>N81002</td>\n",
       "      <td>0101021B0BEACAH</td>\n",
       "      <td>1</td>\n",
       "      <td>KENMORE MEDICAL CENTRE</td>\n",
       "      <td>SK9 1PA</td>\n",
       "    </tr>\n",
       "    <tr>\n",
       "      <th>4</th>\n",
       "      <td>N81002</td>\n",
       "      <td>0101021B0BEADAJ</td>\n",
       "      <td>3</td>\n",
       "      <td>KENMORE MEDICAL CENTRE</td>\n",
       "      <td>SK9 1PA</td>\n",
       "    </tr>\n",
       "  </tbody>\n",
       "</table>\n",
       "</div>"
      ],
      "text/plain": [
       "  PRACTICE         BNF CODE  ITEMS                    NAME POST CODE\n",
       "0   N81002  0101010G0BCABAB      1  KENMORE MEDICAL CENTRE   SK9 1PA\n",
       "1   N81002  0101021B0AAALAL      5  KENMORE MEDICAL CENTRE   SK9 1PA\n",
       "2   N81002  0101021B0AAAPAP      1  KENMORE MEDICAL CENTRE   SK9 1PA\n",
       "3   N81002  0101021B0BEACAH      1  KENMORE MEDICAL CENTRE   SK9 1PA\n",
       "4   N81002  0101021B0BEADAJ      3  KENMORE MEDICAL CENTRE   SK9 1PA"
      ]
     },
     "execution_count": 12,
     "metadata": {},
     "output_type": "execute_result"
    }
   ],
   "source": [
    "\"Merging File 1 and File 2 to get items information and postal code information\"\n",
    "\n",
    "reduced_practice = practice_info.drop(['PERIOD','ADDR_1','ADDR_2','ADDR_3','ADDR_4'], axis = 1)\n",
    "reduced_practice.rename(index=str, columns={\"CODE\": \"PRACTICE\"},inplace=True)\n",
    "\n",
    "reduced_presc_info = presc_info.drop(['SHA','PCT','BNF NAME','NIC','ACT COST','QUANTITY','PERIOD'], axis = 1)\n",
    "all_by_postal      = reduced_presc_info.merge(reduced_practice, on=['PRACTICE'])\n",
    "\n",
    "all_by_postal.head()"
   ]
  },
  {
   "cell_type": "markdown",
   "metadata": {},
   "source": [
    "It is important to find number of items distribution by region. If you have that infomation, medical supply agents can reach areas where maximum number of items are prescribed and can promote their products among practices. \n",
    "Also, it is natural to think that number of practices and number of items prescribed are positively correlate (by region). I also decided to check that relationship as well."
   ]
  },
  {
   "cell_type": "code",
   "execution_count": 13,
   "metadata": {},
   "outputs": [
    {
     "data": {
      "text/plain": [
       "Text(0.5, 0, 'Number of ITEMS')"
      ]
     },
     "execution_count": 13,
     "metadata": {},
     "output_type": "execute_result"
    },
    {
     "data": {
      "image/png": "[encoded data removed]",
      "text/plain": [
       "<Figure size 1440x576 with 3 Axes>"
      ]
     },
     "metadata": {
      "needs_background": "light"
     },
     "output_type": "display_data"
    }
   ],
   "source": [
    "\"Number of items by region\"\n",
    "#Number of practices by postal code\n",
    "#postal_items = all_by_postal.groupby('POST CODE').agg({'ITEMS':'sum'})\\\n",
    "                  #.apply(lambda x: sorted(x, reverse=True))\n",
    "postal_items = all_by_postal.groupby('POST CODE').agg({'ITEMS':'sum'})    \n",
    "postal_items.sort_values(\"ITEMS\", axis = 0, ascending = False, \n",
    "                 inplace = True, na_position ='last') \n",
    "\n",
    "\"Plotting the distribution\"\n",
    "plt.subplots(figsize=(20, 8))\n",
    "plt.subplot(131)\n",
    "tmp_ = postal_items.reset_index().iloc[0:30,:]\n",
    "sns.barplot(x=\"ITEMS\",y=\"POST CODE\", data=tmp_)\n",
    "plt.grid()\n",
    "plt.xlabel(\"Number of ITEMS\",fontsize=15)\n",
    "\n",
    "plt.subplot(132)\n",
    "postal_items['ITEMS'].hist(bins=10,color='crimson',grid=True,xlabelsize=12,ylabelsize=12)\n",
    "plt.xlabel(\"Number of ITEMS\",fontsize=15)\n",
    "plt.ylabel(\"Frequency\",fontsize=12)\n",
    "\n",
    "plt.subplot(133)\n",
    "sns.boxplot(x=postal_items['ITEMS'],linewidth=2.5)\n",
    "plt.grid()\n",
    "plt.xlabel(\"Number of ITEMS\", fontsize=15)\n",
    "\n",
    "#Generating a Heat Map\n"
   ]
  },
  {
   "cell_type": "code",
   "execution_count": 14,
   "metadata": {},
   "outputs": [],
   "source": [
    "from folium import plugins\n",
    "loc_items = tmp_['POST CODE'].apply(geocoder.osm)"
   ]
  },
  {
   "cell_type": "code",
   "execution_count": 15,
   "metadata": {},
   "outputs": [
    {
     "data": {
      "text/html": [
       "<div style=\"width:100%;\"><div style=\"position:relative;width:100%;height:0;padding-bottom:60%;\"><span style=\"color:#565656\">Make this Notebook Trusted to load map: File -> Trust Notebook</span><iframe src=\"about:blank\" style=\"position:absolute;width:100%;height:100%;left:0;top:0;border:none !important;\" data-html=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 onload=\"this.contentDocument.open();this.contentDocument.write(atob(this.getAttribute('data-html')));this.contentDocument.close();\" allowfullscreen webkitallowfullscreen mozallowfullscreen></iframe></div></div>"
      ],
      "text/plain": [
       "<folium.folium.Map at 0x1e761ba0a88>"
      ]
     },
     "execution_count": 15,
     "metadata": {},
     "output_type": "execute_result"
    }
   ],
   "source": [
    "\"Generating a heatmap for item density\"\n",
    "normalize_c = tmp_['ITEMS'].sum()\n",
    "post_items  = []\n",
    "x = [loc_items[0].lat,loc_items[0].lng,tmp_['ITEMS'][0]]\n",
    "\n",
    "\n",
    "for idx in range(len(tmp_)):\n",
    "    ele = [loc_items[idx].lat,loc_items[idx].lng, float(100*tmp_['ITEMS'][idx]/normalize_c)]\n",
    "    post_items.append(ele)\n",
    "\n",
    "items_map = Map(location=[loc_items[0].lat,loc_items[0].lng],zoom_start=6)\n",
    "plugins.HeatMap(post_items,radius=15).add_to(items_map)\n",
    "items_map\n",
    "\n",
    "#HeatMap(data, name=None, min_opacity=0.5, max_zoom=18, max_val=1.0, radius=25, \n",
    "        #blur=15, gradient=None, overlay=True, control=True, show=True, **kwargs)¶"
   ]
  },
  {
   "cell_type": "code",
   "execution_count": 16,
   "metadata": {},
   "outputs": [
    {
     "name": "stderr",
     "output_type": "stream",
     "text": [
      "C:\\Anaconda3\\envs\\tf2\\lib\\site-packages\\seaborn\\distributions.py:369: UserWarning: Default bandwidth for data is 0; skipping density estimation.\n",
      "  warnings.warn(msg, UserWarning)\n"
     ]
    },
    {
     "data": {
      "image/png": "[encoded data removed]",
      "text/plain": [
       "<Figure size 432x432 with 3 Axes>"
      ]
     },
     "metadata": {
      "needs_background": "light"
     },
     "output_type": "display_data"
    }
   ],
   "source": [
    "df1 = postal_practice.sort_index()\n",
    "df2 = postal_items.sort_index()\n",
    "cor_data = pd.concat([df1, df2], axis=1).reindex(df1.index)\n",
    "sns.jointplot(\"PRACTICE\",\"ITEMS\",data=cor_data, kind=\"reg\")\n",
    "plt.grid()"
   ]
  },
  {
   "cell_type": "markdown",
   "metadata": {},
   "source": [
    "## Finding the consumer growth rate"
   ]
  },
  {
   "cell_type": "code",
   "execution_count": 17,
   "metadata": {},
   "outputs": [
    {
     "name": "stdout",
     "output_type": "stream",
     "text": [
      "\u001b[1mLoading prescribing data file (File 2)- for months of July to December - 2019\n"
     ]
    }
   ],
   "source": [
    "print(color.bold +\"Loading prescribing data file (File 2)- for months of July to December - 2019\")\n",
    "\n",
    "#presc_info_June = pd.read_csv('./2019_June/2019_Jun_Practice_Prescribing_Data.csv',index_col=False)\n",
    "#print(color.blue + color.bold + color.underline + 'Prescription Data:' + color.end)\n",
    "#presc_info_June.info()\n",
    "#presc_info_June.sort_values('PRACTICE').head(2)\n",
    "\n",
    "#presc_info_Jul = pd.read_csv('./2019_July/2019_Jul_Practice_Prescribing_Data.csv',index_col=False)\n",
    "#presc_info_Aug = pd.read_csv('./2019_August/2019_Aug_Practice_Prescribing_Data.csv',index_col=False)\n",
    "#presc_info_Sep = pd.read_csv('./2019_September/2019_Sep_Practice_Prescribing_Data.csv',index_col=False)\n",
    "presc_info_Oct = pd.read_csv('./2019_October/2019_Oct_Practice_Prescribing_Data.csv',index_col=False)\n",
    "presc_info_Nov = pd.read_csv('./2019_November/2019_Nov_Practice_Prescribing_Data.csv',index_col=False)"
   ]
  },
  {
   "cell_type": "code",
   "execution_count": 18,
   "metadata": {},
   "outputs": [],
   "source": [
    "\" Loadig the pickle files\"\n",
    "\n",
    "#pres_jun_19 = pd.read_pickle(\"data/jun19.pkl\")\n",
    "#pres_jul_19 = pd.read_pickle(\"data/jul19.pkl\")\n",
    "#pres_aug_19 = pd.read_pickle(\"data/aug19.pkl\")\n",
    "#pres_sep_19 = pd.read_pickle(\"data/sep19.pkl\")\n",
    "#pres_oct_19 = pd.read_pickle(\"data/oct19.pkl\")\n",
    "#pres_nov_19 = pd.read_pickle(\"data/nov19.pkl\")\n",
    "#pres_dec_19 = pd.read_pickle(\"data/dec19.pkl\")\n",
    "\n",
    "#pres_jun_19 = presc_info_June\n",
    "#pres_jul_19 = presc_info_Jul\n",
    "#pres_aug_19 = presc_info_Aug\n",
    "#pres_sep_19 = presc_info_Sep\n",
    "pres_oct_19 = presc_info_Oct\n",
    "pres_nov_19 = presc_info_Nov\n",
    "pres_dec_19  = presc_info\n",
    "\n",
    "#Wrtie to pickle files \n",
    "#pres_jun_19.to_pickle(\"data/jun19.pkl\")\n",
    "#pres_jul_19.to_pickle(\"data/jul19.pkl\")\n",
    "#pres_aug_19.to_pickle(\"data/aug19.pkl\")\n",
    "#pres_sep_19.to_pickle(\"data/sep19.pkl\")\n",
    "#pres_oct_19.to_pickle(\"data/oct19.pkl\")\n",
    "#pres_nov_19.to_pickle(\"data/nov19.pkl\")\n",
    "#pres_dec_19.to_pickle(\"data/dec19.pkl\")"
   ]
  },
  {
   "cell_type": "code",
   "execution_count": 19,
   "metadata": {},
   "outputs": [],
   "source": [
    "# jun_19 = pres_jun_19.groupby('BNF CODE').agg({'ITEMS':'sum'})\n",
    "# jul_19 = pres_jul_19.groupby('BNF CODE').agg({'ITEMS':'sum'})\n",
    "# aug_19 = pres_aug_19.groupby('BNF CODE').agg({'ITEMS':'sum'})\n",
    "# sep_19 = pres_sep_19.groupby('BNF CODE').agg({'ITEMS':'sum'})\n",
    "oct_19 = pres_oct_19.groupby('BNF CODE').agg({'ITEMS':'sum'})\n",
    "nov_19 = pres_nov_19.groupby('BNF CODE').agg({'ITEMS':'sum'})\n",
    "dec_19 = pres_dec_19.groupby('BNF CODE').agg({'ITEMS':'sum'})\n",
    "\n",
    "# jun_19.rename(columns={'ITEMS':'ITEMS_JUN'},inplace=True)\n",
    "# jul_19.rename(columns={'ITEMS':'ITEMS_JUL'},inplace=True)\n",
    "# aug_19.rename(columns={'ITEMS':'ITEMS_AUG'},inplace=True)\n",
    "# sep_19.rename(columns={'ITEMS':'ITEMS_SEP'},inplace=True)\n",
    "oct_19.rename(columns={'ITEMS':'ITEMS_OCT'},inplace=True)\n",
    "nov_19.rename(columns={'ITEMS':'ITEMS_NOV'},inplace=True)\n",
    "dec_19.rename(columns={'ITEMS':'ITEMS_DEC'},inplace=True)\n"
   ]
  },
  {
   "cell_type": "code",
   "execution_count": 20,
   "metadata": {},
   "outputs": [],
   "source": [
    "'Inner join datasets from June to December to get common medicines prscribed over last half of 2019'\n",
    "from functools import reduce\n",
    "#dfs = [jun_19, jul_19, aug_19, sep_19, oct_19, nov_19, dec_19]\n",
    "dfs = [oct_19,nov_19, dec_19]\n",
    "df_final = reduce(lambda left,right: pd.merge(left,right,left_index=True,right_index=True, how='inner'), dfs)"
   ]
  },
  {
   "cell_type": "code",
   "execution_count": 21,
   "metadata": {},
   "outputs": [
    {
     "data": {
      "text/html": [
       "<div>\n",
       "<style scoped>\n",
       "    .dataframe tbody tr th:only-of-type {\n",
       "        vertical-align: middle;\n",
       "    }\n",
       "\n",
       "    .dataframe tbody tr th {\n",
       "        vertical-align: top;\n",
       "    }\n",
       "\n",
       "    .dataframe thead th {\n",
       "        text-align: right;\n",
       "    }\n",
       "</style>\n",
       "<table border=\"1\" class=\"dataframe\">\n",
       "  <thead>\n",
       "    <tr style=\"text-align: right;\">\n",
       "      <th></th>\n",
       "      <th>ITEMS_NOV</th>\n",
       "      <th>ITEMS_DEC</th>\n",
       "      <th>PERC_MEAN</th>\n",
       "    </tr>\n",
       "    <tr>\n",
       "      <th>BNF CODE</th>\n",
       "      <th></th>\n",
       "      <th></th>\n",
       "      <th></th>\n",
       "    </tr>\n",
       "  </thead>\n",
       "  <tbody>\n",
       "    <tr>\n",
       "      <th>0409020N0AAAIAI</th>\n",
       "      <td>28.000000</td>\n",
       "      <td>-0.965517</td>\n",
       "      <td>13.517241</td>\n",
       "    </tr>\n",
       "    <tr>\n",
       "      <th>0702010F0AAAGAG</th>\n",
       "      <td>26.000000</td>\n",
       "      <td>0.555556</td>\n",
       "      <td>13.277778</td>\n",
       "    </tr>\n",
       "    <tr>\n",
       "      <th>0603020C0BBAAAB</th>\n",
       "      <td>0.000000</td>\n",
       "      <td>17.000000</td>\n",
       "      <td>8.500000</td>\n",
       "    </tr>\n",
       "    <tr>\n",
       "      <th>0501090S0BBAAAA</th>\n",
       "      <td>-0.500000</td>\n",
       "      <td>14.000000</td>\n",
       "      <td>6.750000</td>\n",
       "    </tr>\n",
       "    <tr>\n",
       "      <th>0503040B0BBACAC</th>\n",
       "      <td>8.666667</td>\n",
       "      <td>3.034483</td>\n",
       "      <td>5.850575</td>\n",
       "    </tr>\n",
       "    <tr>\n",
       "      <th>0503040B0AAACAC</th>\n",
       "      <td>0.954545</td>\n",
       "      <td>10.581395</td>\n",
       "      <td>5.767970</td>\n",
       "    </tr>\n",
       "    <tr>\n",
       "      <th>1106000AKBBABAB</th>\n",
       "      <td>0.000000</td>\n",
       "      <td>11.000000</td>\n",
       "      <td>5.500000</td>\n",
       "    </tr>\n",
       "    <tr>\n",
       "      <th>0503040B0AAADAD</th>\n",
       "      <td>4.000000</td>\n",
       "      <td>6.866667</td>\n",
       "      <td>5.433333</td>\n",
       "    </tr>\n",
       "    <tr>\n",
       "      <th>0802020G0BHACAD</th>\n",
       "      <td>10.000000</td>\n",
       "      <td>0.636364</td>\n",
       "      <td>5.318182</td>\n",
       "    </tr>\n",
       "    <tr>\n",
       "      <th>0204000K0BDACAD</th>\n",
       "      <td>11.000000</td>\n",
       "      <td>-0.583333</td>\n",
       "      <td>5.208333</td>\n",
       "    </tr>\n",
       "    <tr>\n",
       "      <th>21200000173</th>\n",
       "      <td>0.000000</td>\n",
       "      <td>10.000000</td>\n",
       "      <td>5.000000</td>\n",
       "    </tr>\n",
       "    <tr>\n",
       "      <th>0906040G0DZADBY</th>\n",
       "      <td>10.000000</td>\n",
       "      <td>-0.272727</td>\n",
       "      <td>4.863636</td>\n",
       "    </tr>\n",
       "    <tr>\n",
       "      <th>0503040B0AAAAAA</th>\n",
       "      <td>1.308824</td>\n",
       "      <td>8.161359</td>\n",
       "      <td>4.735091</td>\n",
       "    </tr>\n",
       "    <tr>\n",
       "      <th>130801000BBPTA0</th>\n",
       "      <td>9.000000</td>\n",
       "      <td>0.400000</td>\n",
       "      <td>4.700000</td>\n",
       "    </tr>\n",
       "    <tr>\n",
       "      <th>20150000021</th>\n",
       "      <td>9.000000</td>\n",
       "      <td>0.200000</td>\n",
       "      <td>4.600000</td>\n",
       "    </tr>\n",
       "    <tr>\n",
       "      <th>0503040B0BBAEAG</th>\n",
       "      <td>1.000000</td>\n",
       "      <td>7.875000</td>\n",
       "      <td>4.437500</td>\n",
       "    </tr>\n",
       "    <tr>\n",
       "      <th>23940709840</th>\n",
       "      <td>-0.500000</td>\n",
       "      <td>9.000000</td>\n",
       "      <td>4.250000</td>\n",
       "    </tr>\n",
       "    <tr>\n",
       "      <th>1001030U0AABFBF</th>\n",
       "      <td>-0.666667</td>\n",
       "      <td>9.000000</td>\n",
       "      <td>4.166667</td>\n",
       "    </tr>\n",
       "    <tr>\n",
       "      <th>21270001970</th>\n",
       "      <td>8.000000</td>\n",
       "      <td>0.222222</td>\n",
       "      <td>4.111111</td>\n",
       "    </tr>\n",
       "    <tr>\n",
       "      <th>0503040B0AAAGAG</th>\n",
       "      <td>0.590909</td>\n",
       "      <td>7.285714</td>\n",
       "      <td>3.938312</td>\n",
       "    </tr>\n",
       "  </tbody>\n",
       "</table>\n",
       "</div>"
      ],
      "text/plain": [
       "                 ITEMS_NOV  ITEMS_DEC  PERC_MEAN\n",
       "BNF CODE                                        \n",
       "0409020N0AAAIAI  28.000000  -0.965517  13.517241\n",
       "0702010F0AAAGAG  26.000000   0.555556  13.277778\n",
       "0603020C0BBAAAB   0.000000  17.000000   8.500000\n",
       "0501090S0BBAAAA  -0.500000  14.000000   6.750000\n",
       "0503040B0BBACAC   8.666667   3.034483   5.850575\n",
       "0503040B0AAACAC   0.954545  10.581395   5.767970\n",
       "1106000AKBBABAB   0.000000  11.000000   5.500000\n",
       "0503040B0AAADAD   4.000000   6.866667   5.433333\n",
       "0802020G0BHACAD  10.000000   0.636364   5.318182\n",
       "0204000K0BDACAD  11.000000  -0.583333   5.208333\n",
       "21200000173       0.000000  10.000000   5.000000\n",
       "0906040G0DZADBY  10.000000  -0.272727   4.863636\n",
       "0503040B0AAAAAA   1.308824   8.161359   4.735091\n",
       "130801000BBPTA0   9.000000   0.400000   4.700000\n",
       "20150000021       9.000000   0.200000   4.600000\n",
       "0503040B0BBAEAG   1.000000   7.875000   4.437500\n",
       "23940709840      -0.500000   9.000000   4.250000\n",
       "1001030U0AABFBF  -0.666667   9.000000   4.166667\n",
       "21270001970       8.000000   0.222222   4.111111\n",
       "0503040B0AAAGAG   0.590909   7.285714   3.938312"
      ]
     },
     "execution_count": 21,
     "metadata": {},
     "output_type": "execute_result"
    }
   ],
   "source": [
    "'Prescirptions over three months'\n",
    "df_final.head()\n",
    "\n",
    "'Calculating growth rates over six months'\n",
    "percent_change = df_final.pct_change(axis='columns').drop(['ITEMS_OCT'], axis=1) \n",
    "# drop the first month according  to the data files you are using\n",
    "\n",
    "percent_change['PERC_MEAN'] = percent_change.mean(axis=1)\n",
    "percent_change.sort_values(\"PERC_MEAN\", axis = 0, ascending = False, \n",
    "                 inplace = False, na_position ='last').head(20)"
   ]
  },
  {
   "cell_type": "code",
   "execution_count": null,
   "metadata": {},
   "outputs": [],
   "source": []
  }
 ],
 "metadata": {
  "kernelspec": {
   "display_name": "Python 3",
   "language": "python",
   "name": "python3"
  },
  "language_info": {
   "codemirror_mode": {
    "name": "ipython",
    "version": 3
   },
   "file_extension": ".py",
   "mimetype": "text/x-python",
   "name": "python",
   "nbconvert_exporter": "python",
   "pygments_lexer": "ipython3",
   "version": "3.7.8"
  }
 },
 "nbformat": 4,
 "nbformat_minor": 4
}
